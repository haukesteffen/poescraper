{
 "cells": [
  {
   "cell_type": "code",
   "execution_count": 2,
   "metadata": {},
   "outputs": [
    {
     "name": "stderr",
     "output_type": "stream",
     "text": [
      "c:\\Users\\hauke\\PycharmProjects\\poescraper\\.venv\\lib\\site-packages\\xgboost\\compat.py:36: FutureWarning: pandas.Int64Index is deprecated and will be removed from pandas in a future version. Use pandas.Index with the appropriate dtype instead.\n",
      "  from pandas import MultiIndex, Int64Index\n"
     ]
    }
   ],
   "source": [
    "import pandas as pd\n",
    "import numpy as np\n",
    "import xgboost as xgb\n",
    "from sklearn.naive_bayes import MultinomialNB\n",
    "from sklearn.model_selection import train_test_split\n",
    "from sklearn.metrics import median_absolute_error\n"
   ]
  },
  {
   "cell_type": "code",
   "execution_count": 3,
   "metadata": {},
   "outputs": [],
   "source": [
    "df = pd.read_csv('output.csv', index_col=0).reset_index(drop=True).set_index('itemid')\n",
    "df['more_than_10c'] = df['price'] > 10.0\n",
    "df = df[df['price'] > 0.1]"
   ]
  },
  {
   "cell_type": "code",
   "execution_count": null,
   "metadata": {},
   "outputs": [],
   "source": [
    "X = df.drop(['price', 'basetype', 'corrupted', 'timestamp', 'more_than_10c'], axis=1)\n",
    "y = df['price']\n",
    "\n",
    "X_train, X_test, y_train, y_test = train_test_split(X, y, test_size=0.2, random_state=123)\n",
    "#dtrain = xgb.DMatrix(data=X_train, label=y_train)\n",
    "#dtest = xgb.DMatrix(data=X_test, label=y_test)\n",
    "#param = {'max_depth': 2, 'eta': 1, 'objective': 'binary:logistic'}\n",
    "#num_round = 10\n",
    "#evallist = [(dtest, 'eval'), (dtrain, 'train')]\n",
    "\n",
    "reg = xgb.XGBRegressor(tree_method = 'gpu_hist')\n",
    "reg.fit(X_train, y_train)\n",
    "\n",
    "ypred = reg.predict(X_test)\n",
    "\n",
    "mae = median_absolute_error(y_test, ypred)\n",
    "print(mae)"
   ]
  }
 ],
 "metadata": {
  "interpreter": {
   "hash": "7eb9ed77a5da6b7dd75a4e458ae619740c892ed7eb4900313ea816693d653389"
  },
  "kernelspec": {
   "display_name": "Python 3.9.7 ('.venv': venv)",
   "language": "python",
   "name": "python3"
  },
  "language_info": {
   "codemirror_mode": {
    "name": "ipython",
    "version": 3
   },
   "file_extension": ".py",
   "mimetype": "text/x-python",
   "name": "python",
   "nbconvert_exporter": "python",
   "pygments_lexer": "ipython3",
   "version": "3.9.7"
  },
  "orig_nbformat": 4
 },
 "nbformat": 4,
 "nbformat_minor": 2
}
