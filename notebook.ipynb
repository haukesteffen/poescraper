{
 "cells": [
  {
   "cell_type": "code",
   "execution_count": 51,
   "metadata": {},
   "outputs": [],
   "source": [
    "import pandas as pd\n",
    "import numpy as np\n",
    "import seaborn as sns\n",
    "import matplotlib.pyplot as plt\n",
    "from sqlalchemy import create_engine"
   ]
  },
  {
   "cell_type": "code",
   "execution_count": 56,
   "metadata": {},
   "outputs": [],
   "source": [
    "price_chaos_per_ex = 113.0\n",
    "with open('.env-postgres') as f:\n",
    "    lines = f.readlines()\n",
    "engine = create_engine('postgresql://' + lines[0] + '@localhost:5432/poeitems')\n",
    "df=pd.read_sql_query('select * from items',con=engine)\n",
    "df.dropna(subset='explicit', axis='rows', inplace=True)"
   ]
  },
  {
   "cell_type": "code",
   "execution_count": 57,
   "metadata": {},
   "outputs": [
    {
     "name": "stdout",
     "output_type": "stream",
     "text": [
      "[' Life gained for each Enemy hit by your Attacks'\n",
      " ' Life gained for each Enemy hit by your Spells' ' Life gained on Kill'\n",
      " ' Mana gained for each Enemy Hit by your Spells'\n",
      " ' Mana gained for each Enemy hit by your Attacks' ' Mana gained on Kill'\n",
      " ' chance to Impale Enemies on Hit with Attacks'\n",
      " ' chance to gain a Frenzy Charge on Kill'\n",
      " ' chance to gain a Power Charge on Kill'\n",
      " ' chance to gain an Endurance Charge on Kill' ' increased Area of Effect'\n",
      " ' increased Area of Effect of Hex Skills' ' increased Armour'\n",
      " ' increased Attack Speed'\n",
      " ' increased Attack Speed if youve been Hit Recently'\n",
      " ' increased Bleeding Duration' ' increased Cast Speed'\n",
      " ' increased Chaos Damage' ' increased Cold Damage' ' increased Damage'\n",
      " ' increased Damage with Bleeding' ' increased Damage with Poison'\n",
      " ' increased Effect of NonDamaging Ailments'\n",
      " ' increased Elemental Damage with Attack Skills'\n",
      " ' increased Evasion Rating' ' increased Experience gain'\n",
      " ' increased Fire Damage' ' increased Global Accuracy Rating'\n",
      " ' increased Global Critical Strike Chance'\n",
      " ' increased Global Physical Damage'\n",
      " ' increased Life Reservation Efficiency of Skills'\n",
      " ' increased Light Radius' ' increased Lightning Damage'\n",
      " ' increased Mana Regeneration Rate' ' increased Melee Damage'\n",
      " ' increased Poison Duration' ' increased Projectile Attack Damage'\n",
      " ' increased Rarity of Items found' ' increased Spell Damage'\n",
      " ' increased maximum Energy Shield' ' increased maximum Life'\n",
      " ' increased maximum Mana'\n",
      " ' increased total Recovery per second from Life Leech'\n",
      " ' of Chaos Damage Leeched as Life' ' of Cold Damage Leeched as Life'\n",
      " ' of Damage taken Recouped as Life' ' of Damage taken Recouped as Mana'\n",
      " ' of Fire Damage Leeched as Life' ' of Lightning Damage Leeched as Life'\n",
      " ' of Physical Attack Damage Leeched as Life'\n",
      " ' of Physical Attack Damage Leeched as Mana'\n",
      " ' of Physical Damage Converted to Cold Damage'\n",
      " ' of Physical Damage Converted to Fire Damage'\n",
      " ' of Physical Damage Converted to Lightning Damage'\n",
      " ' reduced Effect of Curses on you' ' reduced Mana Cost of Skills'\n",
      " ' to  Added Cold Damage per Frenzy Charge'\n",
      " ' to  Fire Damage per Endurance Charge'\n",
      " ' to  Lightning Damage per Power Charge' ' to Accuracy Rating'\n",
      " ' to Armour' ' to Chaos Resistance' ' to Cold Resistance'\n",
      " ' to Cold and Chaos Resistances'\n",
      " ' to Critical Strike Multiplier if youve Shattered an Enemy Recently'\n",
      " ' to Damage over Time Multiplier' ' to Dexterity'\n",
      " ' to Dexterity and Intelligence' ' to Evasion Rating'\n",
      " ' to Fire Resistance' ' to Fire and Chaos Resistances'\n",
      " ' to Global Critical Strike Multiplier' ' to Intelligence'\n",
      " ' to Level of Socketed Gems' ' to Lightning Resistance'\n",
      " ' to Lightning and Chaos Resistances' ' to Minimum Endurance Charges'\n",
      " ' to Minimum Frenzy Charges' ' to Minimum Power Charges' ' to Strength'\n",
      " ' to Strength and Dexterity' ' to Strength and Intelligence'\n",
      " ' to all Attributes' ' to all Elemental Resistances'\n",
      " ' to maximum Energy Shield' ' to maximum Life' ' to maximum Mana'\n",
      " 'Adds  to  Cold Damage'\n",
      " 'Adds  to  Cold Damage against Chilled or Frozen Enemies'\n",
      " 'Adds  to  Cold Damage to Attacks' 'Adds  to  Fire Damage'\n",
      " 'Adds  to  Fire Damage against Ignited Enemies'\n",
      " 'Adds  to  Fire Damage to Attacks' 'Adds  to  Lightning Damage'\n",
      " 'Adds  to  Lightning Damage against Shocked Enemies'\n",
      " 'Adds  to  Lightning Damage to Attacks'\n",
      " 'Adds  to  Physical Damage to Attacks'\n",
      " 'Channelling Skills have  to Total Mana Cost'\n",
      " 'Curse Enemies with Conductivity on Hit with  increased Effect'\n",
      " 'Curse Enemies with Despair on Hit with  increased Effect'\n",
      " 'Curse Enemies with Elemental Weakness on Hit with  increased Effect'\n",
      " 'Curse Enemies with Flammability on Hit with  increased Effect'\n",
      " 'Curse Enemies with Frostbite on Hit with  increased Effect'\n",
      " 'Curse Enemies with Vulnerability on Hit with  increased Effect'\n",
      " 'Curse Skills have  increased Skill Effect Duration'\n",
      " 'Exerted Attacks deal  increased Damage'\n",
      " 'Focus has  increased Cooldown Recovery Rate'\n",
      " 'Gain  of Physical Damage as Extra Fire Damage'\n",
      " 'Grants Level  Aspect of the Avian Skill'\n",
      " 'Grants Level  Aspect of the Cat Skill'\n",
      " 'Grants Level  Aspect of the Crab Skill'\n",
      " 'Grants Level  Aspect of the Spider Skill'\n",
      " 'Grants Level  Herald of Ash Skill' 'Grants Level  Herald of Ice Skill'\n",
      " 'Grants Level  Herald of Thunder Skill' 'Minions deal  increased Damage'\n",
      " 'Minions have  increased Movement Speed'\n",
      " 'NonChannelling Skills have  to Total Mana Cost'\n",
      " 'Regenerate  Life per second' 'Regenerate  Mana per second'\n",
      " 'Regenerate  of Energy Shield per second'\n",
      " 'Regenerate  of Life per second'\n",
      " 'Shock nearby Enemies for  Seconds when you Focus'\n",
      " 'You and your Minions take  reduced Reflected Elemental Damage'\n",
      " 'You and your Minions take  reduced Reflected Physical Damage']\n"
     ]
    }
   ],
   "source": [
    "explicit_mod_dict = {'mod':['']}\n",
    "explicit_mods = pd.DataFrame.from_dict(explicit_mod_dict)\n",
    "for _, item in df.iterrows():\n",
    "    for mod in item.explicit:\n",
    "        mod_no_digits = ''.join([i for i in mod if i.isalpha() or i==' '])\n",
    "        if mod_no_digits not in explicit_mods.values:\n",
    "            explicit_mods.loc[len(explicit_mods.index)] = mod_no_digits\n",
    "\n",
    "explicit_mods.sort_values(by='mod', inplace=True)\n",
    "explicit_mods['mod'].replace('',np.nan, inplace=True)\n",
    "explicit_mods.dropna(inplace=True)\n",
    "print(explicit_mods['mod'].values)"
   ]
  },
  {
   "cell_type": "code",
   "execution_count": 58,
   "metadata": {},
   "outputs": [
    {
     "name": "stdout",
     "output_type": "stream",
     "text": [
      "                                                   mod\n",
      "104                        Cold Damage taken from Hits\n",
      "48                         Fire Damage taken from Hits\n",
      "32      Life gained for each Enemy hit by your Attacks\n",
      "53                                 Life gained on Kill\n",
      "61                    Lightning Damage taken from Hits\n",
      "..                                                 ...\n",
      "106                        Regenerate  Life per second\n",
      "37   Regenerate  of Life per second per Endurance C...\n",
      "17                    Wrath has  increased Aura Effect\n",
      "108  You and your Minions take  reduced Reflected D...\n",
      "80                 Zealotry has  increased Aura Effect\n",
      "\n",
      "[114 rows x 1 columns]\n"
     ]
    }
   ],
   "source": [
    "implicit_mod_dict = {'mod':['']}\n",
    "implicit_mods = pd.DataFrame.from_dict(implicit_mod_dict)\n",
    "for _, item in df.iterrows():\n",
    "    for mod in item.implicit:\n",
    "        mod_no_digits = ''.join([i for i in mod if i.isalpha() or i==' '])\n",
    "        if mod_no_digits not in implicit_mods.values:\n",
    "            implicit_mods.loc[len(implicit_mods.index)] = mod_no_digits\n",
    "\n",
    "implicit_mods.sort_values(by='mod', inplace=True)\n",
    "implicit_mods['mod'].replace('',np.nan, inplace=True)\n",
    "implicit_mods.dropna(inplace=True)\n",
    "print(implicit_mods)"
   ]
  },
  {
   "cell_type": "code",
   "execution_count": 66,
   "metadata": {},
   "outputs": [
    {
     "name": "stdout",
     "output_type": "stream",
     "text": [
      "Empty DataFrame\n",
      "Columns: [( Life gained for each Enemy hit by your Attacks,), ( Life gained for each Enemy hit by your Spells,), ( Life gained on Kill,), ( Mana gained for each Enemy Hit by your Spells,), ( Mana gained for each Enemy hit by your Attacks,), ( Mana gained on Kill,), ( chance to Impale Enemies on Hit with Attacks,), ( chance to gain a Frenzy Charge on Kill,), ( chance to gain a Power Charge on Kill,), ( chance to gain an Endurance Charge on Kill,), ( increased Area of Effect,), ( increased Area of Effect of Hex Skills,), ( increased Armour,), ( increased Attack Speed,), ( increased Attack Speed if youve been Hit Recently,), ( increased Bleeding Duration,), ( increased Cast Speed,), ( increased Chaos Damage,), ( increased Cold Damage,), ( increased Damage,), ( increased Damage with Bleeding,), ( increased Damage with Poison,), ( increased Effect of NonDamaging Ailments,), ( increased Elemental Damage with Attack Skills,), ( increased Evasion Rating,), ( increased Experience gain,), ( increased Fire Damage,), ( increased Global Accuracy Rating,), ( increased Global Critical Strike Chance,), ( increased Global Physical Damage,), ( increased Life Reservation Efficiency of Skills,), ( increased Light Radius,), ( increased Lightning Damage,), ( increased Mana Regeneration Rate,), ( increased Melee Damage,), ( increased Poison Duration,), ( increased Projectile Attack Damage,), ( increased Rarity of Items found,), ( increased Spell Damage,), ( increased maximum Energy Shield,), ( increased maximum Life,), ( increased maximum Mana,), ( increased total Recovery per second from Life Leech,), ( of Chaos Damage Leeched as Life,), ( of Cold Damage Leeched as Life,), ( of Damage taken Recouped as Life,), ( of Damage taken Recouped as Mana,), ( of Fire Damage Leeched as Life,), ( of Lightning Damage Leeched as Life,), ( of Physical Attack Damage Leeched as Life,), ( of Physical Attack Damage Leeched as Mana,), ( of Physical Damage Converted to Cold Damage,), ( of Physical Damage Converted to Fire Damage,), ( of Physical Damage Converted to Lightning Damage,), ( reduced Effect of Curses on you,), ( reduced Mana Cost of Skills,), ( to  Added Cold Damage per Frenzy Charge,), ( to  Fire Damage per Endurance Charge,), ( to  Lightning Damage per Power Charge,), ( to Accuracy Rating,), ( to Armour,), ( to Chaos Resistance,), ( to Cold Resistance,), ( to Cold and Chaos Resistances,), ( to Critical Strike Multiplier if youve Shattered an Enemy Recently,), ( to Damage over Time Multiplier,), ( to Dexterity,), ( to Dexterity and Intelligence,), ( to Evasion Rating,), ( to Fire Resistance,), ( to Fire and Chaos Resistances,), ( to Global Critical Strike Multiplier,), ( to Intelligence,), ( to Level of Socketed Gems,), ( to Lightning Resistance,), ( to Lightning and Chaos Resistances,), ( to Minimum Endurance Charges,), ( to Minimum Frenzy Charges,), ( to Minimum Power Charges,), ( to Strength,), ( to Strength and Dexterity,), ( to Strength and Intelligence,), ( to all Attributes,), ( to all Elemental Resistances,), ( to maximum Energy Shield,), ( to maximum Life,), ( to maximum Mana,), (Adds  to  Cold Damage,), (Adds  to  Cold Damage against Chilled or Frozen Enemies,), (Adds  to  Cold Damage to Attacks,), (Adds  to  Fire Damage,), (Adds  to  Fire Damage against Ignited Enemies,), (Adds  to  Fire Damage to Attacks,), (Adds  to  Lightning Damage,), (Adds  to  Lightning Damage against Shocked Enemies,), (Adds  to  Lightning Damage to Attacks,), (Adds  to  Physical Damage to Attacks,), (Channelling Skills have  to Total Mana Cost,), (Curse Enemies with Conductivity on Hit with  increased Effect,), (Curse Enemies with Despair on Hit with  increased Effect,), ...]\n",
      "Index: []\n",
      "\n",
      "[0 rows x 125 columns]\n"
     ]
    }
   ],
   "source": [
    "explicit_df = pd.DataFrame(columns=explicit_mods.to_numpy())\n",
    "print(explicit_df.head())"
   ]
  }
 ],
 "metadata": {
  "interpreter": {
   "hash": "7eb9ed77a5da6b7dd75a4e458ae619740c892ed7eb4900313ea816693d653389"
  },
  "kernelspec": {
   "display_name": "Python 3.9.7 ('.venv': venv)",
   "language": "python",
   "name": "python3"
  },
  "language_info": {
   "codemirror_mode": {
    "name": "ipython",
    "version": 3
   },
   "file_extension": ".py",
   "mimetype": "text/x-python",
   "name": "python",
   "nbconvert_exporter": "python",
   "pygments_lexer": "ipython3",
   "version": "3.9.7"
  },
  "orig_nbformat": 4
 },
 "nbformat": 4,
 "nbformat_minor": 2
}
