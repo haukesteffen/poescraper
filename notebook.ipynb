{
 "cells": [
  {
   "cell_type": "code",
   "execution_count": 236,
   "metadata": {},
   "outputs": [],
   "source": [
    "import pandas as pd\n",
    "import numpy as np\n",
    "import seaborn as sns\n",
    "import matplotlib.pyplot as plt\n",
    "from sqlalchemy import create_engine"
   ]
  },
  {
   "cell_type": "code",
   "execution_count": 237,
   "metadata": {},
   "outputs": [],
   "source": [
    "price_chaos_per_ex = 113.0\n",
    "with open('.env-postgres') as f:\n",
    "    lines = f.readlines()\n",
    "engine = create_engine('postgresql://' + lines[0] + '@localhost:5432/poeitems')\n",
    "df=pd.read_sql_query('select * from items',con=engine)\n",
    "df.dropna(subset='explicit', axis='rows', inplace=True)"
   ]
  },
  {
   "cell_type": "code",
   "execution_count": 238,
   "metadata": {},
   "outputs": [
    {
     "name": "stdout",
     "output_type": "stream",
     "text": [
      "[' Life gained for each Enemy hit by your Attacks'\n",
      " ' Life gained for each Enemy hit by your Spells' ' Life gained on Kill'\n",
      " ' Mana gained for each Enemy Hit by your Spells'\n",
      " ' Mana gained for each Enemy hit by your Attacks' ' Mana gained on Kill'\n",
      " ' chance to Impale Enemies on Hit with Attacks'\n",
      " ' chance to gain a Frenzy Charge on Kill'\n",
      " ' chance to gain a Power Charge on Kill'\n",
      " ' chance to gain an Endurance Charge on Kill' ' increased Area of Effect'\n",
      " ' increased Area of Effect of Hex Skills' ' increased Armour'\n",
      " ' increased Attack Speed'\n",
      " ' increased Attack Speed if youve been Hit Recently'\n",
      " ' increased Bleeding Duration' ' increased Cast Speed'\n",
      " ' increased Chaos Damage' ' increased Cold Damage' ' increased Damage'\n",
      " ' increased Damage with Bleeding' ' increased Damage with Poison'\n",
      " ' increased Effect of NonDamaging Ailments'\n",
      " ' increased Elemental Damage with Attack Skills'\n",
      " ' increased Evasion Rating' ' increased Experience gain'\n",
      " ' increased Fire Damage' ' increased Global Accuracy Rating'\n",
      " ' increased Global Critical Strike Chance'\n",
      " ' increased Global Physical Damage'\n",
      " ' increased Life Reservation Efficiency of Skills'\n",
      " ' increased Light Radius' ' increased Lightning Damage'\n",
      " ' increased Mana Regeneration Rate' ' increased Melee Damage'\n",
      " ' increased Poison Duration' ' increased Projectile Attack Damage'\n",
      " ' increased Rarity of Items found' ' increased Spell Damage'\n",
      " ' increased maximum Energy Shield' ' increased maximum Life'\n",
      " ' increased maximum Mana'\n",
      " ' increased total Recovery per second from Life Leech'\n",
      " ' of Chaos Damage Leeched as Life' ' of Cold Damage Leeched as Life'\n",
      " ' of Damage taken Recouped as Life' ' of Damage taken Recouped as Mana'\n",
      " ' of Fire Damage Leeched as Life' ' of Lightning Damage Leeched as Life'\n",
      " ' of Physical Attack Damage Leeched as Life'\n",
      " ' of Physical Attack Damage Leeched as Mana'\n",
      " ' of Physical Damage Converted to Cold Damage'\n",
      " ' of Physical Damage Converted to Fire Damage'\n",
      " ' of Physical Damage Converted to Lightning Damage'\n",
      " ' reduced Effect of Curses on you' ' reduced Mana Cost of Skills'\n",
      " ' to  Added Cold Damage per Frenzy Charge'\n",
      " ' to  Fire Damage per Endurance Charge'\n",
      " ' to  Lightning Damage per Power Charge' ' to Accuracy Rating'\n",
      " ' to Armour' ' to Chaos Resistance' ' to Cold Resistance'\n",
      " ' to Cold and Chaos Resistances'\n",
      " ' to Critical Strike Multiplier if youve Shattered an Enemy Recently'\n",
      " ' to Damage over Time Multiplier' ' to Dexterity'\n",
      " ' to Dexterity and Intelligence' ' to Evasion Rating'\n",
      " ' to Fire Resistance' ' to Fire and Chaos Resistances'\n",
      " ' to Global Critical Strike Multiplier' ' to Intelligence'\n",
      " ' to Level of Socketed Gems' ' to Lightning Resistance'\n",
      " ' to Lightning and Chaos Resistances' ' to Minimum Endurance Charges'\n",
      " ' to Minimum Frenzy Charges' ' to Minimum Power Charges' ' to Strength'\n",
      " ' to Strength and Dexterity' ' to Strength and Intelligence'\n",
      " ' to all Attributes' ' to all Elemental Resistances'\n",
      " ' to maximum Energy Shield' ' to maximum Life' ' to maximum Mana'\n",
      " 'Adds  to  Cold Damage'\n",
      " 'Adds  to  Cold Damage against Chilled or Frozen Enemies'\n",
      " 'Adds  to  Cold Damage to Attacks' 'Adds  to  Fire Damage'\n",
      " 'Adds  to  Fire Damage against Ignited Enemies'\n",
      " 'Adds  to  Fire Damage to Attacks' 'Adds  to  Lightning Damage'\n",
      " 'Adds  to  Lightning Damage against Shocked Enemies'\n",
      " 'Adds  to  Lightning Damage to Attacks'\n",
      " 'Adds  to  Physical Damage to Attacks'\n",
      " 'Channelling Skills have  to Total Mana Cost'\n",
      " 'Curse Enemies with Conductivity on Hit with  increased Effect'\n",
      " 'Curse Enemies with Despair on Hit with  increased Effect'\n",
      " 'Curse Enemies with Elemental Weakness on Hit with  increased Effect'\n",
      " 'Curse Enemies with Flammability on Hit with  increased Effect'\n",
      " 'Curse Enemies with Frostbite on Hit with  increased Effect'\n",
      " 'Curse Enemies with Vulnerability on Hit with  increased Effect'\n",
      " 'Curse Skills have  increased Skill Effect Duration'\n",
      " 'Exerted Attacks deal  increased Damage'\n",
      " 'Focus has  increased Cooldown Recovery Rate'\n",
      " 'Gain  of Physical Damage as Extra Fire Damage'\n",
      " 'Grants Level  Aspect of the Avian Skill'\n",
      " 'Grants Level  Aspect of the Cat Skill'\n",
      " 'Grants Level  Aspect of the Crab Skill'\n",
      " 'Grants Level  Aspect of the Spider Skill'\n",
      " 'Grants Level  Herald of Ash Skill' 'Grants Level  Herald of Ice Skill'\n",
      " 'Grants Level  Herald of Thunder Skill' 'Minions deal  increased Damage'\n",
      " 'Minions have  increased Movement Speed'\n",
      " 'NonChannelling Skills have  to Total Mana Cost'\n",
      " 'Regenerate  Life per second' 'Regenerate  Mana per second'\n",
      " 'Regenerate  of Energy Shield per second'\n",
      " 'Regenerate  of Life per second'\n",
      " 'Shock nearby Enemies for  Seconds when you Focus'\n",
      " 'You and your Minions take  reduced Reflected Damage'\n",
      " 'You and your Minions take  reduced Reflected Elemental Damage'\n",
      " 'You and your Minions take  reduced Reflected Physical Damage']\n"
     ]
    }
   ],
   "source": [
    "explicit_mod_dict = {'mod':['']}\n",
    "explicit_mods = pd.DataFrame.from_dict(explicit_mod_dict)\n",
    "for _, item in df.iterrows():\n",
    "    for mod in item.explicit:\n",
    "        mod_no_digits = ''.join([i for i in mod if i.isalpha() or i==' '])\n",
    "        if mod_no_digits not in explicit_mods.values:\n",
    "            explicit_mods.loc[len(explicit_mods.index)] = mod_no_digits\n",
    "\n",
    "explicit_mods.sort_values(by='mod', inplace=True)\n",
    "explicit_mods['mod'].replace('',np.nan, inplace=True)\n",
    "explicit_mods.dropna(inplace=True)\n",
    "print(explicit_mods['mod'].values)"
   ]
  },
  {
   "cell_type": "code",
   "execution_count": 239,
   "metadata": {},
   "outputs": [
    {
     "name": "stdout",
     "output_type": "stream",
     "text": [
      "                                                   mod\n",
      "117                                 Chaos Damage taken\n",
      "104                        Cold Damage taken from Hits\n",
      "48                         Fire Damage taken from Hits\n",
      "32      Life gained for each Enemy hit by your Attacks\n",
      "53                                 Life gained on Kill\n",
      "..                                                 ...\n",
      "106                        Regenerate  Life per second\n",
      "37   Regenerate  of Life per second per Endurance C...\n",
      "17                    Wrath has  increased Aura Effect\n",
      "108  You and your Minions take  reduced Reflected D...\n",
      "80                 Zealotry has  increased Aura Effect\n",
      "\n",
      "[117 rows x 1 columns]\n"
     ]
    }
   ],
   "source": [
    "implicit_mod_dict = {'mod':['']}\n",
    "implicit_mods = pd.DataFrame.from_dict(implicit_mod_dict)\n",
    "for _, item in df.iterrows():\n",
    "    for mod in item.implicit:\n",
    "        mod_no_digits = ''.join([i for i in mod if i.isalpha() or i==' '])\n",
    "        if mod_no_digits not in implicit_mods.values:\n",
    "            implicit_mods.loc[len(implicit_mods.index)] = mod_no_digits\n",
    "\n",
    "implicit_mods.sort_values(by='mod', inplace=True)\n",
    "implicit_mods['mod'].replace('',np.nan, inplace=True)\n",
    "implicit_mods.dropna(inplace=True)\n",
    "print(implicit_mods)"
   ]
  },
  {
   "cell_type": "code",
   "execution_count": 240,
   "metadata": {},
   "outputs": [
    {
     "name": "stdout",
     "output_type": "stream",
     "text": [
      "Empty DataFrame\n",
      "Columns: [itemid, price, basetype, ilvl, Adds  to  Cold Damage against Chilled or Frozen Enemies,  increased Damage while Leeching Mana, Grants Level  Flammability Skill, Adds  to  Lightning Damage to Spells and Attacks,  to Cold and Chaos Resistances,  to Intelligence,  chance to Avoid being Shocked,  to Level of Socketed Gems,  increased total Recovery per second from Life Leech,  increased Mana Regeneration Rate,  to Dexterity,  Lightning Damage taken from Hits,  to Lightning Resistance, Focus has  increased Cooldown Recovery Rate,  of Fire Damage Leeched as Life, Hatred has  increased Aura Effect,  Life gained for each Enemy hit by your Attacks,  increased Life Reservation Efficiency of Skills,  to Fire and Chaos Resistances,  reduced Effect of Curses on you, Bleeding cannot be inflicted on you,  to Armour, Wrath has  increased Aura Effect,  increased Experience gain,  increased Damage with Ailments, Exerted Attacks deal  increased Damage,  reduced Mana Cost of Skills,  increased Light Radius,  to Chaos Resistance, Adds  to  Cold Damage to Attacks,  increased maximum Life,  to maximum Energy Shield, Grants Level  Despair Skill,  to Damage over Time Multiplier, Grants Level  Zealotry Skill,  increased Movement Speed,  increased Elemental Damage,  increased Fire Damage,  increased Global Critical Strike Chance,  of Physical Attack Damage Leeched as Mana,  increased maximum Mana,  to Dexterity and Intelligence,  of Damage taken Recouped as Life, Has  Socket, Adds  to  Fire Damage, Grants Level  Aspect of the Crab Skill,  to Global Critical Strike Multiplier, Curse Enemies with Frostbite on Hit with  increased Effect, Grants Level  Purity of Ice Skill,  Chaos Damage taken, Grants Level  Hatred Skill, Regenerate  of Life per second per Endurance Charge,  to Cold and Lightning Resistances,  increased Effect of Shock,  of Chaos Damage Leeched as Life,  to Lightning and Chaos Resistances,  increased Area of Effect, Grants Level  Frostbite Skill,  increased Elemental Damage with Attack Skills, Poisons you inflict deal Damage  faster, Regenerate  Life per second, Adds  to  Fire Damage against Ignited Enemies, Gain Arcane Surge on Hit with Spells,  increased Bleeding Duration, Grants Level  Wrath Skill,  to Critical Strike Multiplier if youve Shattered an Enemy Recently,  to maximum Life, Regenerate  of Life per second,  increased Chaos Damage,  to all Attributes, You and your Minions take  reduced Reflected Damage,  to Cold Resistance,  increased Damage with Vaal Skills, Malevolence has  increased Aura Effect,  to  Added Cold Damage per Frenzy Charge,  chance to gain a Power Charge on Kill, You and your Minions take  reduced Reflected Physical Damage, Determination has  increased Aura Effect,  increased Rarity of Items found,  of Physical Damage Converted to Cold Damage, Curse Skills have  increased Skill Effect Duration, Grants Level  Herald of Thunder Skill,  increased Global Accuracy Rating, Grants Level  Aspect of the Spider Skill, Channelling Skills have  to Total Mana Cost,  to maximum Mana, Grants Level  Aspect of the Avian Skill, Shock nearby Enemies for  Seconds when you Focus,  Suffix Modifier allowed,  Life gained for each Enemy hit by your Spells,  chance to Impale Enemies on Hit with Attacks, Item sells for much more to vendors,  increased Area of Effect of Hex Skills, Curse Enemies with Conductivity on Hit with  increased Effect, Minions have  increased Movement Speed,  Cold Damage taken from Hits, ...]\n",
      "Index: []\n",
      "\n",
      "[0 rows x 195 columns]\n"
     ]
    }
   ],
   "source": [
    "info_list = ['itemid', 'price', 'basetype', 'ilvl']\n",
    "explicit_list = explicit_mods['mod'].tolist()\n",
    "implicit_list = implicit_mods['mod'].tolist()\n",
    "affix_list = explicit_list + implicit_list\n",
    "affix_list = list(set(affix_list))\n",
    "df_affix = pd.DataFrame(columns=info_list + affix_list)\n",
    "print(df_affix.head())"
   ]
  },
  {
   "cell_type": "code",
   "execution_count": 247,
   "metadata": {},
   "outputs": [
    {
     "name": "stdout",
     "output_type": "stream",
     "text": [
      "   Mana gained on Kill  chance to Impale Enemies on Hit with Attacks ilvl\n",
      "0                   10                                           100   60\n"
     ]
    }
   ],
   "source": [
    "def affix_parser():\n",
    "    return {' Mana gained on Kill':['10'],\n",
    "            ' chance to Impale Enemies on Hit with Attacks':['100'],\n",
    "            'ilvl':['60']}\n",
    "\n",
    "df_temp1 = pd.DataFrame.from_dict(affix_parser())\n",
    "print(df_temp1.head())\n",
    "\n",
    "df_temp3 = df_affix.merge(df_temp1, how='outer').fillna(0)\n",
    "print(df_temp3.head())\n"
   ]
  }
 ],
 "metadata": {
  "interpreter": {
   "hash": "7eb9ed77a5da6b7dd75a4e458ae619740c892ed7eb4900313ea816693d653389"
  },
  "kernelspec": {
   "display_name": "Python 3.9.7 ('.venv': venv)",
   "language": "python",
   "name": "python3"
  },
  "language_info": {
   "codemirror_mode": {
    "name": "ipython",
    "version": 3
   },
   "file_extension": ".py",
   "mimetype": "text/x-python",
   "name": "python",
   "nbconvert_exporter": "python",
   "pygments_lexer": "ipython3",
   "version": "3.9.7"
  },
  "orig_nbformat": 4
 },
 "nbformat": 4,
 "nbformat_minor": 2
}
