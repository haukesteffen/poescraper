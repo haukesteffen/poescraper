{
 "cells": [
  {
   "cell_type": "code",
   "execution_count": 51,
   "metadata": {},
   "outputs": [],
   "source": [
    "import pandas as pd\n",
    "import numpy as np\n",
    "import seaborn as sns\n",
    "import matplotlib.pyplot as plt\n",
    "from sqlalchemy import create_engine"
   ]
  },
  {
   "cell_type": "code",
   "execution_count": 56,
   "metadata": {},
   "outputs": [],
   "source": [
    "price_chaos_per_ex = 113.0\n",
    "with open('.env-postgres') as f:\n",
    "    lines = f.readlines()\n",
    "engine = create_engine('postgresql://' + lines[0] + '@localhost:5432/poeitems')\n",
    "df=pd.read_sql_query('select * from items',con=engine)\n",
    "df.dropna(subset='explicit', axis='rows', inplace=True)"
   ]
  },
  {
   "cell_type": "code",
   "execution_count": null,
   "metadata": {},
   "outputs": [],
   "source": [
    "explicit_mod_dict = {'mod':['']}\n",
    "explicit_mods = pd.DataFrame.from_dict(explicit_mod_dict)\n",
    "for _, item in df.iterrows():\n",
    "    for mod in item.explicit:\n",
    "        mod_no_digits = ''.join([i for i in mod if i.isalpha() or i==' '])\n",
    "        if mod_no_digits not in explicit_mods.values:\n",
    "            explicit_mods.loc[len(explicit_mods.index)] = mod_no_digits\n",
    "\n",
    "explicit_mods.sort_values(by='mod', inplace=True)\n",
    "explicit_mods['mod'].replace('',np.nan, inplace=True)\n",
    "explicit_mods.dropna(inplace=True)\n",
    "print(explicit_mods['mod'].values)"
   ]
  },
  {
   "cell_type": "code",
   "execution_count": null,
   "metadata": {},
   "outputs": [],
   "source": [
    "implicit_mod_dict = {'mod':['']}\n",
    "implicit_mods = pd.DataFrame.from_dict(implicit_mod_dict)\n",
    "for _, item in df.iterrows():\n",
    "    for mod in item.implicit:\n",
    "        mod_no_digits = ''.join([i for i in mod if i.isalpha() or i==' '])\n",
    "        if mod_no_digits not in implicit_mods.values:\n",
    "            implicit_mods.loc[len(implicit_mods.index)] = mod_no_digits\n",
    "\n",
    "implicit_mods.sort_values(by='mod', inplace=True)\n",
    "implicit_mods['mod'].replace('',np.nan, inplace=True)\n",
    "implicit_mods.dropna(inplace=True)\n",
    "print(implicit_mods)"
   ]
  },
  {
   "cell_type": "code",
   "execution_count": null,
   "metadata": {},
   "outputs": [],
   "source": [
    "info_list = ['itemid', 'price', 'basetype', 'ilvl']\n",
    "explicit_list = explicit_mods['mod'].tolist()\n",
    "implicit_list = implicit_mods['mod'].tolist()\n",
    "df = pd.DataFrame(columns=info_list + explicit_list + implicit_list)\n",
    "print(df.head())"
   ]
  }
 ],
 "metadata": {
  "interpreter": {
   "hash": "7eb9ed77a5da6b7dd75a4e458ae619740c892ed7eb4900313ea816693d653389"
  },
  "kernelspec": {
   "display_name": "Python 3.9.7 ('.venv': venv)",
   "language": "python",
   "name": "python3"
  },
  "language_info": {
   "codemirror_mode": {
    "name": "ipython",
    "version": 3
   },
   "file_extension": ".py",
   "mimetype": "text/x-python",
   "name": "python",
   "nbconvert_exporter": "python",
   "pygments_lexer": "ipython3",
   "version": "3.9.7"
  },
  "orig_nbformat": 4
 },
 "nbformat": 4,
 "nbformat_minor": 2
}
