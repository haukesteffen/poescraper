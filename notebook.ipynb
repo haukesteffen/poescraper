{
 "cells": [
  {
   "cell_type": "markdown",
   "metadata": {},
   "source": [
    "Inputs and definitions"
   ]
  },
  {
   "cell_type": "code",
   "execution_count": 1,
   "metadata": {},
   "outputs": [],
   "source": [
    "import os\n",
    "import pandas as pd\n",
    "import numpy as np\n",
    "from sqlalchemy import create_engine\n",
    "from joblib import Parallel, delayed\n",
    "\n",
    "n_jobs = os.cpu_count()\n",
    "price_chaos_per_ex = 113.0\n",
    "\n",
    "def strip_digits(input_string):\n",
    "    return ''.join([i for i in input_string if i.isalpha() or i==' '])\n",
    "\n",
    "def strip_alpha(input_string):\n",
    "    return ''.join([i for i in input_string if i.isnumeric() or i==' ' or i=='.'])\n",
    "\n",
    "def convert_rolls(input_string):\n",
    "    return [np.mean([float(roll) for roll in str.split(input_string)])]\n",
    "\n",
    "def create_lexicon(df, subset=None):\n",
    "    if subset==None:\n",
    "        raise ValueError('Define a subset to create lexicon on.')\n",
    "    mod_dict = {'mod':['']}\n",
    "    mods_df = pd.DataFrame.from_dict(mod_dict)\n",
    "    for _, item in df.iterrows():\n",
    "        if item[subset] is not None:\n",
    "            for mod in item[subset]:\n",
    "                mod_no_digits = strip_digits(mod)\n",
    "                if mod_no_digits not in mods_df.values:\n",
    "                    mods_df.loc[len(mods_df.index)] = mod_no_digits\n",
    "    mods_df['mod'].replace('',np.nan, inplace=True)\n",
    "    mods_df.dropna(inplace=True)\n",
    "    return [s + ' (' + subset + ')' for s in mods_df['mod'].tolist()]\n",
    "\n",
    "def item_parser(input_item):\n",
    "    global output_df\n",
    "    if input_item.loc['itemid'] in output_df['itemid']:\n",
    "        pass\n",
    "    item_dict = {}\n",
    "    item_dict['itemid'] = input_item.loc['itemid']\n",
    "    item_dict['price'] = input_item.loc['price']\n",
    "    item_dict['basetype'] = input_item.loc['basetype']\n",
    "    item_dict['ilvl'] = input_item.loc['ilvl']\n",
    "    item_dict['corrupted'] = input_item.loc['corrupted']\n",
    "    item_dict['timestamp'] = input_item.loc['ts']\n",
    "    for affix_category in ['implicit', 'explicit', 'fracturedmods']:\n",
    "        if input_item[affix_category] is None:\n",
    "            continue\n",
    "        for mod in input_item.loc[affix_category]:\n",
    "            affix = strip_digits(mod) + ' ('+affix_category+')'\n",
    "            value = strip_alpha(mod)\n",
    "            item_dict[affix] = convert_rolls(value)\n",
    "    return pd.DataFrame.from_dict(item_dict)"
   ]
  },
  {
   "cell_type": "markdown",
   "metadata": {},
   "source": [
    "Read database"
   ]
  },
  {
   "cell_type": "code",
   "execution_count": 2,
   "metadata": {},
   "outputs": [],
   "source": [
    "#connect to database and query all items\n",
    "with open('.env-postgres') as f:\n",
    "    engine = create_engine('postgresql://' + f.readlines()[0] + '@localhost:5432/poeitems')\n",
    "input_df = pd.read_sql_query('select * from items',con=engine)\n",
    "\n",
    "#drop unidentified and unpriced items\n",
    "input_df.dropna(subset='explicit', axis='rows', inplace=True)\n",
    "subset_ex = input_df['price'].str.contains('exalted')\n",
    "subset_c = input_df['price'].str.contains('chaos')\n",
    "input_df = input_df[subset_c|subset_ex]\n",
    "\n",
    "#remove unnecessary strings and drop items priced without number\n",
    "subset_ex = input_df['price'].str.contains('exalted')\n",
    "input_df['price'] = input_df['price'].str.replace(' exalted','')\n",
    "input_df['price'] = input_df['price'].str.replace('~price ','')\n",
    "input_df['price'] = input_df['price'].str.replace(' chaos','')\n",
    "input_df['price'] = input_df['price'].str.replace('~b/o ','')\n",
    "input_df['price'] = input_df['price'].replace('', np.nan)\n",
    "input_df['price'] = input_df['price'].dropna()\n",
    "\n",
    "#convert to chaos and save as float\n",
    "input_df['price'] = input_df['price'].astype(float)\n",
    "input_df.loc[subset_ex, 'price'] = input_df.loc[subset_ex, 'price']*price_chaos_per_ex"
   ]
  },
  {
   "cell_type": "markdown",
   "metadata": {},
   "source": [
    "Create and merge affix lexica"
   ]
  },
  {
   "cell_type": "code",
   "execution_count": 3,
   "metadata": {},
   "outputs": [],
   "source": [
    "#create affix lexica\n",
    "implicit_lexicon = create_lexicon(input_df, 'implicit')\n",
    "explicit_lexicon = create_lexicon(input_df, 'explicit')\n",
    "fracturedmods_lexicon = create_lexicon(input_df, 'fracturedmods')\n",
    "\n",
    "#merge info and affix lexica\n",
    "info_lexicon = ['itemid', 'price', 'basetype', 'ilvl', 'corrupted', 'timestamp']\n",
    "output_df = pd.DataFrame(columns=info_lexicon + explicit_lexicon + implicit_lexicon + fracturedmods_lexicon)"
   ]
  },
  {
   "cell_type": "markdown",
   "metadata": {},
   "source": [
    "Parse input dataframe into output dataframe"
   ]
  },
  {
   "cell_type": "code",
   "execution_count": 4,
   "metadata": {},
   "outputs": [],
   "source": [
    "#parse input dataframe into output dataframe\n",
    "df_item = Parallel(n_jobs=n_jobs)(delayed(item_parser)(item) for _, item in input_df.iterrows())\n",
    "output_df = pd.concat(df_item, axis=0).fillna(0.0)"
   ]
  },
  {
   "cell_type": "code",
   "execution_count": 5,
   "metadata": {},
   "outputs": [],
   "source": [
    "output_df.to_csv('output.csv')"
   ]
  },
  {
   "cell_type": "code",
   "execution_count": null,
   "metadata": {},
   "outputs": [],
   "source": [
    "df = pd.read_csv('output.csv')"
   ]
  }
 ],
 "metadata": {
  "interpreter": {
   "hash": "7eb9ed77a5da6b7dd75a4e458ae619740c892ed7eb4900313ea816693d653389"
  },
  "kernelspec": {
   "display_name": "Python 3.9.7 ('.venv': venv)",
   "language": "python",
   "name": "python3"
  },
  "language_info": {
   "codemirror_mode": {
    "name": "ipython",
    "version": 3
   },
   "file_extension": ".py",
   "mimetype": "text/x-python",
   "name": "python",
   "nbconvert_exporter": "python",
   "pygments_lexer": "ipython3",
   "version": "3.9.7"
  },
  "orig_nbformat": 4
 },
 "nbformat": 4,
 "nbformat_minor": 2
}
