{
 "cells": [
  {
   "cell_type": "code",
   "execution_count": 2,
   "metadata": {},
   "outputs": [
    {
     "name": "stderr",
     "output_type": "stream",
     "text": [
      "c:\\Users\\hauke\\PycharmProjects\\poescraper\\.venv\\lib\\site-packages\\xgboost\\compat.py:36: FutureWarning: pandas.Int64Index is deprecated and will be removed from pandas in a future version. Use pandas.Index with the appropriate dtype instead.\n",
      "  from pandas import MultiIndex, Int64Index\n"
     ]
    }
   ],
   "source": [
    "import pandas as pd\n",
    "import numpy as np\n",
    "import xgboost as xgb\n",
    "from sklearn.naive_bayes import MultinomialNB\n",
    "from sklearn.model_selection import train_test_split\n",
    "from sklearn.metrics import median_absolute_error\n"
   ]
  },
  {
   "cell_type": "code",
   "execution_count": 3,
   "metadata": {},
   "outputs": [],
   "source": [
    "df = pd.read_csv('output.csv', index_col=0).reset_index(drop=True).set_index('itemid')\n",
    "df['more_than_10c'] = df['price'] > 10.0\n",
    "df = df[df['price'] > 0.1]"
   ]
  },
  {
   "cell_type": "code",
   "execution_count": null,
   "metadata": {},
   "outputs": [],
   "source": [
    "X = df.drop(['price', 'basetype', 'corrupted', 'timestamp', 'more_than_10c'], axis=1)\n",
    "y = df['price']\n",
    "\n",
    "X_train, X_test, y_train, y_test = train_test_split(X, y, test_size=0.2, random_state=123)\n",
    "#dtrain = xgb.DMatrix(data=X_train, label=y_train)\n",
    "#dtest = xgb.DMatrix(data=X_test, label=y_test)\n",
    "#param = {'max_depth': 2, 'eta': 1, 'objective': 'binary:logistic'}\n",
    "#num_round = 10\n",
    "#evallist = [(dtest, 'eval'), (dtrain, 'train')]\n",
    "\n",
    "reg = xgb.XGBRegressor(tree_method = 'gpu_hist')\n",
    "reg.fit(X_train, y_train)\n",
    "\n",
    "ypred = reg.predict(X_test)\n",
    "\n",
    "mae = median_absolute_error(y_test, ypred)\n",
    "print(mae)"
   ]
  },
  {
   "cell_type": "code",
   "execution_count": 3,
   "metadata": {},
   "outputs": [],
   "source": [
    "def create_lexicon(df, subset=None):\n",
    "    if subset == None:\n",
    "        raise ValueError(\"Define a subset to create lexicon on.\")\n",
    "    mod_dict = {\"mod\": [\"\"]}\n",
    "    mods_df = pd.DataFrame.from_dict(mod_dict)\n",
    "    for _, item in df.iterrows():\n",
    "        if item[subset] is not None:\n",
    "            for mod in item[subset]:\n",
    "                mod_no_digits = strip_digits(mod)\n",
    "                if mod_no_digits not in mods_df.values:\n",
    "                    mods_df.loc[len(mods_df.index)] = mod_no_digits\n",
    "    mods_df[\"mod\"].replace(\"\", np.nan, inplace=True)\n",
    "    mods_df.dropna(inplace=True)\n",
    "    return [s + \" (\" + subset + \")\" for s in mods_df[\"mod\"].tolist()]\n",
    "    \n",
    "# create affix lexica\n",
    "print(\"creating implicit lexicon...\")\n",
    "implicit_lexicon = create_lexicon(input_df, \"implicit\")\n",
    "print(\"creating explicit lexicon...\")\n",
    "explicit_lexicon = create_lexicon(input_df, \"explicit\")\n",
    "print(\"creating fractured lexicon...\")\n",
    "fracturedmods_lexicon = create_lexicon(input_df, \"fracturedmods\")\n",
    "\n",
    "# merge info and affix lexica\n",
    "print(\"merging lexica...\")\n",
    "info_lexicon = [\"itemid\", \"price\", \"basetype\", \"ilvl\", \"corrupted\", \"timestamp\"]\n",
    "output_df = pd.DataFrame(\n",
    "    columns=info_lexicon\n",
    "    + explicit_lexicon\n",
    "    + implicit_lexicon\n",
    "    + fracturedmods_lexicon\n",
    ")\n",
    "lexica = [info_lexicon, implicit_lexicon, explicit_lexicon, fracturedmods_lexicon]\n",
    "item_dict = {}\n",
    "for lexicon in lexica:\n",
    "    for mod in lexicon:\n",
    "        item_dict[mod] = []\n",
    "print(item_dict)"
   ]
  },
  {
   "cell_type": "code",
   "execution_count": 12,
   "metadata": {},
   "outputs": [],
   "source": [
    "import pandas as pd\n",
    "test = pd.read_pickle('data/output.pkl')"
   ]
  },
  {
   "cell_type": "code",
   "execution_count": 15,
   "metadata": {},
   "outputs": [
    {
     "data": {
      "text/plain": [
       "[' to Cold Resistance (fracturedmods)',\n",
       " ' to Fire Resistance (fracturedmods)',\n",
       " 'Curse Enemies with Conductivity on Hit with  increased Effect (fracturedmods)',\n",
       " 'Adds  to  Physical Damage to Attacks (fracturedmods)',\n",
       " ' to Level of Socketed Gems (fracturedmods)',\n",
       " ' to Lightning Resistance (fracturedmods)',\n",
       " ' to Strength (fracturedmods)',\n",
       " ' to maximum Life (fracturedmods)',\n",
       " ' increased Cold Damage (fracturedmods)',\n",
       " ' to Dexterity (fracturedmods)',\n",
       " ' increased Life Reservation Efficiency of Skills (fracturedmods)',\n",
       " ' to Intelligence (fracturedmods)',\n",
       " ' to maximum Energy Shield (fracturedmods)',\n",
       " ' increased Attack Speed (fracturedmods)',\n",
       " 'Curse Enemies with Flammability on Hit with  increased Effect (fracturedmods)',\n",
       " ' increased Fire Damage (fracturedmods)',\n",
       " ' to all Elemental Resistances (fracturedmods)',\n",
       " 'Adds  to  Lightning Damage to Attacks (fracturedmods)',\n",
       " ' to Chaos Resistance (fracturedmods)',\n",
       " ' increased Lightning Damage (fracturedmods)',\n",
       " ' increased Elemental Damage with Attack Skills (fracturedmods)',\n",
       " ' increased Mana Regeneration Rate (fracturedmods)',\n",
       " ' to maximum Mana (fracturedmods)',\n",
       " ' increased Cast Speed (fracturedmods)',\n",
       " 'Minions deal  increased Damage (fracturedmods)',\n",
       " ' of Fire Damage Leeched as Life (fracturedmods)',\n",
       " ' of Chaos Damage Leeched as Life (fracturedmods)',\n",
       " ' of Damage taken Recouped as Life (fracturedmods)',\n",
       " 'Adds  to  Fire Damage to Attacks (fracturedmods)',\n",
       " 'Regenerate  Life per second (fracturedmods)',\n",
       " ' increased Rarity of Items found (fracturedmods)',\n",
       " ' to Accuracy Rating (fracturedmods)',\n",
       " ' to Evasion Rating (fracturedmods)',\n",
       " ' of Physical Damage Converted to Cold Damage (fracturedmods)',\n",
       " ' Mana gained on Kill (fracturedmods)',\n",
       " ' of Physical Damage Converted to Lightning Damage (fracturedmods)',\n",
       " ' increased Global Accuracy Rating (fracturedmods)',\n",
       " ' increased Light Radius (fracturedmods)',\n",
       " 'Curse Enemies with Frostbite on Hit with  increased Effect (fracturedmods)',\n",
       " ' of Lightning Damage Leeched as Life (fracturedmods)',\n",
       " ' of Physical Attack Damage Leeched as Life (fracturedmods)',\n",
       " ' of Physical Damage Converted to Fire Damage (fracturedmods)',\n",
       " ' Life gained on Kill (fracturedmods)',\n",
       " ' of Cold Damage Leeched as Life (fracturedmods)',\n",
       " ' to all Attributes (fracturedmods)',\n",
       " ' of Physical Attack Damage Leeched as Mana (fracturedmods)',\n",
       " ' Life gained for each Enemy hit by your Attacks (fracturedmods)',\n",
       " 'Curse Skills have  increased Skill Effect Duration (fracturedmods)',\n",
       " 'Curse Enemies with Despair on Hit with  increased Effect (fracturedmods)',\n",
       " 'Adds  to  Cold Damage to Attacks (fracturedmods)']"
      ]
     },
     "execution_count": 15,
     "metadata": {},
     "output_type": "execute_result"
    }
   ],
   "source": [
    "[x for x in test.columns if 'fractured' in x]"
   ]
  },
  {
   "cell_type": "code",
   "execution_count": 9,
   "metadata": {},
   "outputs": [],
   "source": [
    "df = (\n",
    "    pd.read_pickle(\"data/output.pkl\")\n",
    "    .drop(columns=[\"timestamp\"])\n",
    ")\n",
    "df[\"corrupted\"] = df[\"corrupted\"].astype(float)\n",
    "test = pd.concat(\n",
    "        [df.drop(columns=[\"price\", \"basetype\"]), pd.get_dummies(df[\"basetype\"])],\n",
    "        axis=1,\n",
    "    )\n",
    "test1 = pd.DataFrame(columns=test.columns)"
   ]
  },
  {
   "cell_type": "code",
   "execution_count": 10,
   "metadata": {},
   "outputs": [],
   "source": [
    "test1.to_pickle('data/lexicon.pkl')"
   ]
  }
 ],
 "metadata": {
  "interpreter": {
   "hash": "7eb9ed77a5da6b7dd75a4e458ae619740c892ed7eb4900313ea816693d653389"
  },
  "kernelspec": {
   "display_name": "Python 3.9.7 ('.venv': venv)",
   "language": "python",
   "name": "python3"
  },
  "language_info": {
   "codemirror_mode": {
    "name": "ipython",
    "version": 3
   },
   "file_extension": ".py",
   "mimetype": "text/x-python",
   "name": "python",
   "nbconvert_exporter": "python",
   "pygments_lexer": "ipython3",
   "version": "3.8.9"
  },
  "orig_nbformat": 4
 },
 "nbformat": 4,
 "nbformat_minor": 2
}
